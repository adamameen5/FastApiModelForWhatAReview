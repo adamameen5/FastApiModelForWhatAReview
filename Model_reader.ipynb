{
 "cells": [
  {
   "cell_type": "code",
   "execution_count": 1,
   "metadata": {},
   "outputs": [
    {
     "name": "stdout",
     "output_type": "stream",
     "text": [
      "Requirement already satisfied: seaborn in /Users/adamameen/opt/anaconda3/envs/FYP/lib/python3.7/site-packages (0.11.2)\n",
      "Requirement already satisfied: numpy>=1.15 in /Users/adamameen/opt/anaconda3/envs/FYP/lib/python3.7/site-packages (from seaborn) (1.21.5)\n",
      "Requirement already satisfied: pandas>=0.23 in /Users/adamameen/opt/anaconda3/envs/FYP/lib/python3.7/site-packages (from seaborn) (1.3.5)\n",
      "Requirement already satisfied: matplotlib>=2.2 in /Users/adamameen/opt/anaconda3/envs/FYP/lib/python3.7/site-packages (from seaborn) (3.5.1)\n",
      "Requirement already satisfied: scipy>=1.0 in /Users/adamameen/opt/anaconda3/envs/FYP/lib/python3.7/site-packages (from seaborn) (1.7.3)\n",
      "Requirement already satisfied: packaging>=20.0 in /Users/adamameen/opt/anaconda3/envs/FYP/lib/python3.7/site-packages (from matplotlib>=2.2->seaborn) (21.3)\n",
      "Requirement already satisfied: kiwisolver>=1.0.1 in /Users/adamameen/opt/anaconda3/envs/FYP/lib/python3.7/site-packages (from matplotlib>=2.2->seaborn) (1.4.2)\n",
      "Requirement already satisfied: pillow>=6.2.0 in /Users/adamameen/opt/anaconda3/envs/FYP/lib/python3.7/site-packages (from matplotlib>=2.2->seaborn) (9.1.0)\n",
      "Requirement already satisfied: pyparsing>=2.2.1 in /Users/adamameen/opt/anaconda3/envs/FYP/lib/python3.7/site-packages (from matplotlib>=2.2->seaborn) (3.0.7)\n",
      "Requirement already satisfied: fonttools>=4.22.0 in /Users/adamameen/opt/anaconda3/envs/FYP/lib/python3.7/site-packages (from matplotlib>=2.2->seaborn) (4.32.0)\n",
      "Requirement already satisfied: cycler>=0.10 in /Users/adamameen/opt/anaconda3/envs/FYP/lib/python3.7/site-packages (from matplotlib>=2.2->seaborn) (0.11.0)\n",
      "Requirement already satisfied: python-dateutil>=2.7 in /Users/adamameen/opt/anaconda3/envs/FYP/lib/python3.7/site-packages (from matplotlib>=2.2->seaborn) (2.8.2)\n",
      "Requirement already satisfied: typing-extensions in /Users/adamameen/opt/anaconda3/envs/FYP/lib/python3.7/site-packages (from kiwisolver>=1.0.1->matplotlib>=2.2->seaborn) (3.10.0.2)\n",
      "Requirement already satisfied: pytz>=2017.3 in /Users/adamameen/opt/anaconda3/envs/FYP/lib/python3.7/site-packages (from pandas>=0.23->seaborn) (2021.3)\n",
      "Requirement already satisfied: six>=1.5 in /Users/adamameen/opt/anaconda3/envs/FYP/lib/python3.7/site-packages (from python-dateutil>=2.7->matplotlib>=2.2->seaborn) (1.16.0)\n",
      "Note: you may need to restart the kernel to use updated packages.\n"
     ]
    }
   ],
   "source": [
    "pip install seaborn"
   ]
  },
  {
   "cell_type": "code",
   "execution_count": 2,
   "metadata": {
    "colab": {
     "base_uri": "https://localhost:8080/"
    },
    "executionInfo": {
     "elapsed": 488,
     "status": "ok",
     "timestamp": 1650702534433,
     "user": {
      "displayName": "machine quest",
      "userId": "08138845656426892373"
     },
     "user_tz": -330
    },
    "id": "etAjqWEzhEn5",
    "outputId": "29889d86-6189-4518-a841-18de48ec1089"
   },
   "outputs": [
    {
     "name": "stderr",
     "output_type": "stream",
     "text": [
      "[nltk_data] Downloading package stopwords to\n",
      "[nltk_data]     /Users/adamameen/nltk_data...\n",
      "[nltk_data]   Package stopwords is already up-to-date!\n",
      "[nltk_data] Downloading package wordnet to\n",
      "[nltk_data]     /Users/adamameen/nltk_data...\n",
      "[nltk_data]   Package wordnet is already up-to-date!\n"
     ]
    }
   ],
   "source": [
    "#importing the required library\n",
    "import numpy as np\n",
    "import pandas as pd\n",
    "import seaborn as sns\n",
    "import matplotlib.pyplot as plt\n",
    "from wordcloud import WordCloud, STOPWORDS \n",
    "from sklearn.model_selection import train_test_split\n",
    "from sklearn.preprocessing import FunctionTransformer\n",
    "from nltk.stem import WordNetLemmatizer\n",
    "from nltk.corpus import stopwords\n",
    "from sklearn.metrics import f1_score, accuracy_score\n",
    "from sklearn import model_selection\n",
    "from sklearn.naive_bayes import MultinomialNB\n",
    "from sklearn.pipeline import Pipeline\n",
    "from sklearn.feature_extraction.text import TfidfVectorizer\n",
    "from sklearn import metrics\n",
    "import warnings\n",
    "import nltk\n",
    "nltk.download('stopwords')\n",
    "nltk.download('wordnet')\n",
    "stop = stopwords.words('english')\n",
    "warnings.filterwarnings(\"ignore\")"
   ]
  },
  {
   "cell_type": "code",
   "execution_count": 3,
   "metadata": {
    "executionInfo": {
     "elapsed": 2,
     "status": "ok",
     "timestamp": 1650702535873,
     "user": {
      "displayName": "machine quest",
      "userId": "08138845656426892373"
     },
     "user_tz": -330
    },
    "id": "bc-efJi1hual"
   },
   "outputs": [],
   "source": [
    "lemmatizer = WordNetLemmatizer()\n",
    "def preprocessing(x):\n",
    "  #first we make text to lowercase \n",
    "  x = x.apply(lambda x: \" \".join(x.lower() for x in x.split()))\n",
    "  #remove punctuation\n",
    "  x = x.str.replace('[^\\w\\s]','')\n",
    "  #removing stop workds\n",
    "  x = x.apply(lambda x: \" \".join(x for x in x.split() if x not in stop))\n",
    "  #removing digits\n",
    "  x = x.str.replace('\\d+', '')\n",
    "  #lemmatizing\n",
    "  x = [lemmatizer.lemmatize(row) for row in x]\n",
    "  return x\n",
    "\n",
    "preprocessor = FunctionTransformer(preprocessing)"
   ]
  },
  {
   "cell_type": "code",
   "execution_count": 5,
   "metadata": {},
   "outputs": [],
   "source": [
    "import joblib"
   ]
  },
  {
   "cell_type": "code",
   "execution_count": 6,
   "metadata": {
    "executionInfo": {
     "elapsed": 3600,
     "status": "ok",
     "timestamp": 1650702541322,
     "user": {
      "displayName": "machine quest",
      "userId": "08138845656426892373"
     },
     "user_tz": -330
    },
    "id": "U2GqzqVPhXRD"
   },
   "outputs": [],
   "source": [
    "pipeline = joblib.load('Rating_predictor.pkl')"
   ]
  },
  {
   "cell_type": "code",
   "execution_count": 10,
   "metadata": {
    "colab": {
     "base_uri": "https://localhost:8080/"
    },
    "executionInfo": {
     "elapsed": 3,
     "status": "ok",
     "timestamp": 1650702601579,
     "user": {
      "displayName": "machine quest",
      "userId": "08138845656426892373"
     },
     "user_tz": -330
    },
    "id": "FBjbymhehtG7",
    "outputId": "bf9f5b1c-e14a-4531-ceeb-ebe28bbe2dd3"
   },
   "outputs": [
    {
     "data": {
      "text/plain": [
       "array([1, 5, 4, 5])"
      ]
     },
     "execution_count": 10,
     "metadata": {},
     "output_type": "execute_result"
    }
   ],
   "source": [
    "pipeline.predict(pd.Series(['Hey this is the worst place i have been.','this is the best of the best. I love it','its okay, not the best but its okay','its satisfactory, not the best quality']))"
   ]
  },
  {
   "cell_type": "code",
   "execution_count": 11,
   "metadata": {
    "id": "aeAW-iaphoyD"
   },
   "outputs": [
    {
     "data": {
      "text/plain": [
       "array([1])"
      ]
     },
     "execution_count": 11,
     "metadata": {},
     "output_type": "execute_result"
    }
   ],
   "source": [
    "pipeline.predict(pd.Series([\"This is the worst food\"]))"
   ]
  },
  {
   "cell_type": "code",
   "execution_count": 14,
   "metadata": {},
   "outputs": [
    {
     "data": {
      "text/plain": [
       "array([1, 4])"
      ]
     },
     "execution_count": 14,
     "metadata": {},
     "output_type": "execute_result"
    }
   ],
   "source": [
    "pipeline.predict(pd.Series([\"This is the worst service\",\"The food is ok but the service was very good. The price was very affordable. Overall very great experience\"]))"
   ]
  },
  {
   "cell_type": "code",
   "execution_count": 16,
   "metadata": {},
   "outputs": [
    {
     "data": {
      "text/plain": [
       "array([1])"
      ]
     },
     "execution_count": 16,
     "metadata": {},
     "output_type": "execute_result"
    }
   ],
   "source": [
    "pipeline.predict(pd.Series([\"Plese never go here!. The worst experience.\"]))"
   ]
  },
  {
   "cell_type": "code",
   "execution_count": null,
   "metadata": {},
   "outputs": [],
   "source": []
  }
 ],
 "metadata": {
  "colab": {
   "authorship_tag": "ABX9TyNWctLUaER1p4zkvIc2+7Jw",
   "collapsed_sections": [],
   "mount_file_id": "180W3oL_rq1HEzZ_LPRiIjDzmAA9e_kz_",
   "name": "Model_reader.ipynb",
   "provenance": []
  },
  "kernelspec": {
   "display_name": "Python 3 (ipykernel)",
   "language": "python",
   "name": "python3"
  },
  "language_info": {
   "codemirror_mode": {
    "name": "ipython",
    "version": 3
   },
   "file_extension": ".py",
   "mimetype": "text/x-python",
   "name": "python",
   "nbconvert_exporter": "python",
   "pygments_lexer": "ipython3",
   "version": "3.7.7"
  }
 },
 "nbformat": 4,
 "nbformat_minor": 1
}
